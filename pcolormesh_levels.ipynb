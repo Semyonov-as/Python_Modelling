{
  "cells": [
    {
      "cell_type": "code",
      "execution_count": 1,
      "source": [
        "%matplotlib inline"
      ],
      "outputs": [],
      "metadata": {
        "collapsed": false
      }
    },
    {
      "cell_type": "markdown",
      "source": [
        "\n",
        "# pcolormesh\n",
        "\n",
        "`.axes.Axes.pcolormesh` allows you to generate 2D image-style plots.  Note it\n",
        "is faster than the similar `~.axes.Axes.pcolor`.\n"
      ],
      "metadata": {}
    },
    {
      "cell_type": "code",
      "execution_count": 2,
      "source": [
        "import matplotlib.pyplot as plt\n",
        "from matplotlib.colors import BoundaryNorm\n",
        "from matplotlib.ticker import MaxNLocator\n",
        "import numpy as np"
      ],
      "outputs": [],
      "metadata": {
        "collapsed": false
      }
    },
    {
      "cell_type": "markdown",
      "source": [
        "## Basic pcolormesh\n",
        "\n",
        "We usually specify a pcolormesh by defining the edge of quadrilaterals and\n",
        "the value of the quadrilateral.  Note that here *x* and *y* each have one\n",
        "extra element than Z in the respective dimension.\n",
        "\n"
      ],
      "metadata": {}
    },
    {
      "cell_type": "code",
      "execution_count": 3,
      "source": [
        "np.random.seed(19680801)\n",
        "Z = np.random.rand(6, 10)\n",
        "x = np.arange(-0.5, 10, 1)  # len = 11\n",
        "y = np.arange(4.5, 11, 1)  # len = 7\n",
        "\n",
        "fig, ax = plt.subplots()\n",
        "ax.pcolormesh(x, y, Z)"
      ],
      "outputs": [
        {
          "output_type": "execute_result",
          "data": {
            "text/plain": [
              "<matplotlib.collections.QuadMesh at 0x10c2a4190>"
            ]
          },
          "metadata": {},
          "execution_count": 3
        },
        {
          "output_type": "display_data",
          "data": {
            "text/plain": [
              "<Figure size 432x288 with 1 Axes>"
            ],
            "image/png": "[encoded data removed]"
          },
          "metadata": {
            "needs_background": "light"
          }
        }
      ],
      "metadata": {
        "collapsed": false
      }
    },
    {
      "cell_type": "markdown",
      "source": [
        "## Non-rectilinear pcolormesh\n",
        "\n",
        "Note that we can also specify matrices for *X* and *Y* and have\n",
        "non-rectilinear quadrilaterals.\n",
        "\n"
      ],
      "metadata": {}
    },
    {
      "cell_type": "code",
      "execution_count": 4,
      "source": [
        "x = np.arange(-0.5, 10, 1)  # len = 11\n",
        "y = np.arange(4.5, 11, 1)  # len = 7\n",
        "X, Y = np.meshgrid(x, y)\n",
        "X = X + 0.2 * Y  # tilt the coordinates.\n",
        "Y = Y + 0.3 * X\n",
        "\n",
        "fig, ax = plt.subplots()\n",
        "ax.pcolormesh(X, Y, Z)"
      ],
      "outputs": [
        {
          "output_type": "execute_result",
          "data": {
            "text/plain": [
              "<matplotlib.collections.QuadMesh at 0x10c500dc0>"
            ]
          },
          "metadata": {},
          "execution_count": 4
        },
        {
          "output_type": "display_data",
          "data": {
            "text/plain": [
              "<Figure size 432x288 with 1 Axes>"
            ],
            "image/png": "[encoded data removed]"
          },
          "metadata": {
            "needs_background": "light"
          }
        }
      ],
      "metadata": {
        "collapsed": false
      }
    },
    {
      "cell_type": "markdown",
      "source": [
        "## Centered Coordinates\n",
        "\n",
        "Often a user wants to pass *X* and *Y* with the same sizes as *Z* to\n",
        "`.axes.Axes.pcolormesh`. This is also allowed if ``shading='auto'`` is\n",
        "passed (default set by :rc:`pcolor.shading`). Pre Matplotlib 3.3,\n",
        "``shading='flat'`` would drop the last column and row of *Z*; while that\n",
        "is still allowed for back compatibility purposes, a DeprecationWarning is\n",
        "raised. If this is really what you want, then simply drop the last row and\n",
        "column of Z manually:\n",
        "\n"
      ],
      "metadata": {}
    },
    {
      "cell_type": "code",
      "execution_count": 5,
      "source": [
        "x = np.arange(10)  # len = 10\n",
        "y = np.arange(6)  # len = 6\n",
        "X, Y = np.meshgrid(x, y)\n",
        "\n",
        "fig, axs = plt.subplots(2, 1, sharex=True, sharey=True)\n",
        "axs[0].pcolormesh(X, Y, Z, vmin=np.min(Z), vmax=np.max(Z), shading='auto')\n",
        "axs[0].set_title(\"shading='auto' = 'nearest'\")\n",
        "axs[1].pcolormesh(X, Y, Z[:-1, :-1], vmin=np.min(Z), vmax=np.max(Z),\n",
        "                  shading='flat')\n",
        "axs[1].set_title(\"shading='flat'\")"
      ],
      "outputs": [
        {
          "output_type": "execute_result",
          "data": {
            "text/plain": [
              "Text(0.5, 1.0, \"shading='flat'\")"
            ]
          },
          "metadata": {},
          "execution_count": 5
        },
        {
          "output_type": "display_data",
          "data": {
            "text/plain": [
              "<Figure size 432x288 with 2 Axes>"
            ],
            "image/png": "[encoded data removed]"
          },
          "metadata": {
            "needs_background": "light"
          }
        }
      ],
      "metadata": {
        "collapsed": false
      }
    },
    {
      "cell_type": "markdown",
      "source": [
        "## Making levels using Norms\n",
        "\n",
        "Shows how to combine Normalization and Colormap instances to draw\n",
        "\"levels\" in `.axes.Axes.pcolor`, `.axes.Axes.pcolormesh`\n",
        "and `.axes.Axes.imshow` type plots in a similar\n",
        "way to the levels keyword argument to contour/contourf.\n",
        "\n"
      ],
      "metadata": {}
    },
    {
      "cell_type": "code",
      "execution_count": 6,
      "source": [
        "# make these smaller to increase the resolution\n",
        "dx, dy = 0.05, 0.05\n",
        "\n",
        "# generate 2 2d grids for the x & y bounds\n",
        "y, x = np.mgrid[slice(1, 5 + dy, dy),\n",
        "                slice(1, 5 + dx, dx)]\n",
        "\n",
        "z = np.sin(x)**10 + np.cos(10 + y*x) * np.cos(x)\n",
        "\n",
        "# x and y are bounds, so z should be the value *inside* those bounds.\n",
        "# Therefore, remove the last value from the z array.\n",
        "z = z[:-1, :-1]\n",
        "levels = MaxNLocator(nbins=15).tick_values(z.min(), z.max())\n",
        "\n",
        "\n",
        "# pick the desired colormap, sensible levels, and define a normalization\n",
        "# instance which takes data values and translates those into levels.\n",
        "cmap = plt.colormaps['PiYG']\n",
        "norm = BoundaryNorm(levels, ncolors=cmap.N, clip=True)\n",
        "\n",
        "fig, (ax0, ax1) = plt.subplots(nrows=2)\n",
        "\n",
        "im = ax0.pcolormesh(x, y, z, cmap=cmap, norm=norm)\n",
        "fig.colorbar(im, ax=ax0)\n",
        "ax0.set_title('pcolormesh with levels')\n",
        "\n",
        "\n",
        "# contours are *point* based plots, so convert our bound into point\n",
        "# centers\n",
        "cf = ax1.contourf(x[:-1, :-1] + dx/2.,\n",
        "                  y[:-1, :-1] + dy/2., z, levels=levels,\n",
        "                  cmap=cmap)\n",
        "fig.colorbar(cf, ax=ax1)\n",
        "ax1.set_title('contourf with levels')\n",
        "\n",
        "# adjust spacing between subplots so `ax1` title and `ax0` tick labels\n",
        "# don't overlap\n",
        "fig.tight_layout()\n",
        "\n",
        "plt.show()"
      ],
      "outputs": [
        {
          "output_type": "error",
          "ename": "TypeError",
          "evalue": "'function' object is not subscriptable",
          "traceback": [
            "\u001b[0;31m---------------------------------------------------------------------------\u001b[0m",
            "\u001b[0;31mTypeError\u001b[0m                                 Traceback (most recent call last)",
            "\u001b[0;32m/var/folders/r7/9wz772191y50mf0mt_6wz7680000gn/T/ipykernel_2106/1393231586.py\u001b[0m in \u001b[0;36m<module>\u001b[0;34m\u001b[0m\n\u001b[1;32m     16\u001b[0m \u001b[0;31m# pick the desired colormap, sensible levels, and define a normalization\u001b[0m\u001b[0;34m\u001b[0m\u001b[0;34m\u001b[0m\u001b[0;34m\u001b[0m\u001b[0m\n\u001b[1;32m     17\u001b[0m \u001b[0;31m# instance which takes data values and translates those into levels.\u001b[0m\u001b[0;34m\u001b[0m\u001b[0;34m\u001b[0m\u001b[0;34m\u001b[0m\u001b[0m\n\u001b[0;32m---> 18\u001b[0;31m \u001b[0mcmap\u001b[0m \u001b[0;34m=\u001b[0m \u001b[0mplt\u001b[0m\u001b[0;34m.\u001b[0m\u001b[0mcolormaps\u001b[0m\u001b[0;34m[\u001b[0m\u001b[0;34m'PiYG'\u001b[0m\u001b[0;34m]\u001b[0m\u001b[0;34m\u001b[0m\u001b[0;34m\u001b[0m\u001b[0m\n\u001b[0m\u001b[1;32m     19\u001b[0m \u001b[0mnorm\u001b[0m \u001b[0;34m=\u001b[0m \u001b[0mBoundaryNorm\u001b[0m\u001b[0;34m(\u001b[0m\u001b[0mlevels\u001b[0m\u001b[0;34m,\u001b[0m \u001b[0mncolors\u001b[0m\u001b[0;34m=\u001b[0m\u001b[0mcmap\u001b[0m\u001b[0;34m.\u001b[0m\u001b[0mN\u001b[0m\u001b[0;34m,\u001b[0m \u001b[0mclip\u001b[0m\u001b[0;34m=\u001b[0m\u001b[0;32mTrue\u001b[0m\u001b[0;34m)\u001b[0m\u001b[0;34m\u001b[0m\u001b[0;34m\u001b[0m\u001b[0m\n\u001b[1;32m     20\u001b[0m \u001b[0;34m\u001b[0m\u001b[0m\n",
            "\u001b[0;31mTypeError\u001b[0m: 'function' object is not subscriptable"
          ]
        }
      ],
      "metadata": {
        "collapsed": false
      }
    },
    {
      "cell_type": "markdown",
      "source": [
        ".. admonition:: References\n",
        "\n",
        "   The use of the following functions, methods, classes and modules is shown\n",
        "   in this example:\n",
        "\n",
        "   - `matplotlib.axes.Axes.pcolormesh` / `matplotlib.pyplot.pcolormesh`\n",
        "   - `matplotlib.axes.Axes.contourf` / `matplotlib.pyplot.contourf`\n",
        "   - `matplotlib.figure.Figure.colorbar` / `matplotlib.pyplot.colorbar`\n",
        "   - `matplotlib.colors.BoundaryNorm`\n",
        "   - `matplotlib.ticker.MaxNLocator`\n",
        "\n"
      ],
      "metadata": {}
    }
  ],
  "metadata": {
    "kernelspec": {
      "name": "python3",
      "display_name": "Python 3.9.6 64-bit ('base': conda)"
    },
    "language_info": {
      "codemirror_mode": {
        "name": "ipython",
        "version": 3
      },
      "file_extension": ".py",
      "mimetype": "text/x-python",
      "name": "python",
      "nbconvert_exporter": "python",
      "pygments_lexer": "ipython3",
      "version": "3.9.6"
    },
    "interpreter": {
      "hash": "95ec9ec1504d83f612128e0fb229072f90bbb4cb09d9d5d93b5dd26e0ca2cfd1"
    }
  },
  "nbformat": 4,
  "nbformat_minor": 2
}
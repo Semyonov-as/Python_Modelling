{
 "cells": [
  {
   "cell_type": "code",
   "execution_count": 24,
   "metadata": {},
   "outputs": [],
   "source": [
    "import matplotlib.pyplot as plt\n",
    "from matplotlib.colors import BoundaryNorm\n",
    "from matplotlib.ticker import MaxNLocator\n",
    "import numpy as np\n",
    "%matplotlib inline"
   ]
  },
  {
   "cell_type": "code",
   "execution_count": 2,
   "metadata": {},
   "outputs": [],
   "source": [
    "n1 = 1.5\n",
    "n2 = 2.345\n",
    "n3 = 1.5\n",
    "a = 0.5\n",
    "\n",
    "def mode_eq_TE(b, k, n):\n",
    "    p = np.sqrt(b*b - k*k*n1*n1)\n",
    "    q = np.sqrt(k*k*n2*n2 - b*b)\n",
    "    r = np.sqrt(b*b - k*k*n3*n3)\n",
    "\n",
    "    return a*q + np.pi*n - np.arctan(q*(p+r)/(q*q - p*r))"
   ]
  },
  {
   "cell_type": "code",
   "execution_count": 42,
   "metadata": {},
   "outputs": [
    {
     "name": "stderr",
     "output_type": "stream",
     "text": [
      "/var/folders/r7/9wz772191y50mf0mt_6wz7680000gn/T/ipykernel_2009/3479436251.py:7: RuntimeWarning: invalid value encountered in sqrt\n",
      "  p = np.sqrt(b*b - k*k*n1*n1)\n",
      "/var/folders/r7/9wz772191y50mf0mt_6wz7680000gn/T/ipykernel_2009/3479436251.py:8: RuntimeWarning: invalid value encountered in sqrt\n",
      "  q = np.sqrt(k*k*n2*n2 - b*b)\n",
      "/var/folders/r7/9wz772191y50mf0mt_6wz7680000gn/T/ipykernel_2009/3479436251.py:9: RuntimeWarning: invalid value encountered in sqrt\n",
      "  r = np.sqrt(b*b - k*k*n3*n3)\n"
     ]
    }
   ],
   "source": [
    "_b = np.arange(3, 20, 0.005)\n",
    "_k = np.arange(2, 10, 0.005)\n",
    "\n",
    "b, k = np.meshgrid(_b, _k)\n",
    "z = mode_eq_TE(b, k, 1)\n"
   ]
  },
  {
   "cell_type": "code",
   "execution_count": 43,
   "metadata": {},
   "outputs": [],
   "source": [
    "z1=np.nan_to_num(z, nan = -5)"
   ]
  },
  {
   "cell_type": "code",
   "execution_count": 44,
   "metadata": {},
   "outputs": [
    {
     "data": {
      "image/png": "[encoded data removed]",
      "text/plain": [
       "<Figure size 432x288 with 2 Axes>"
      ]
     },
     "metadata": {
      "needs_background": "light"
     },
     "output_type": "display_data"
    }
   ],
   "source": [
    "\n",
    "levels = MaxNLocator(nbins=15).tick_values(z1.min(), z1.max())\n",
    "cmap = plt.get_cmap(name='PiYG')\n",
    "\n",
    "\n",
    "fig, ax = plt.subplots()\n",
    "\n",
    "\n",
    "# contours are *point* based plots, so convert our bound into point\n",
    "# centers\n",
    "cf = ax.contourf(b + 0.001/2.,\n",
    "                  k + 0.001/2., z1, levels=levels,\n",
    "                  cmap=cmap)\n",
    "fig.colorbar(cf, ax=ax)\n",
    "ax.set_title('contourf with levels')\n",
    "\n",
    "# adjust spacing between subplots so `ax1` title and `ax0` tick labels\n",
    "# don't overlap\n",
    "fig.tight_layout()\n",
    "\n",
    "plt.show()"
   ]
  },
  {
   "cell_type": "code",
   "execution_count": 41,
   "metadata": {},
   "outputs": [
    {
     "data": {
      "image/png": "[encoded data removed]",
      "text/plain": [
       "<Figure size 432x288 with 2 Axes>"
      ]
     },
     "metadata": {},
     "output_type": "display_data"
    }
   ],
   "source": [
    "\n",
    "levels = MaxNLocator(nbins=15).tick_values(z1.min(), z1.max())\n",
    "cmap = plt.get_cmap(name='PiYG')\n",
    "\n",
    "\n",
    "fig, ax = plt.subplots()\n",
    "\n",
    "\n",
    "# contours are *point* based plots, so convert our bound into point\n",
    "# centers\n",
    "cf = ax.contourf(b + 0.001/2.,\n",
    "                  k + 0.001/2., z1, levels=levels,\n",
    "                  cmap=cmap)\n",
    "fig.colorbar(cf, ax=ax)\n",
    "ax.set_title('contourf with levels')\n",
    "\n",
    "# adjust spacing between subplots so `ax1` title and `ax0` tick labels\n",
    "# don't overlap\n",
    "fig.tight_layout()\n",
    "\n",
    "plt.show()"
   ]
  },
  {
   "cell_type": "code",
   "execution_count": 26,
   "metadata": {},
   "outputs": [
    {
     "data": {
      "image/png": "[encoded data removed]",
      "text/html": [
       "<div style=\"vertical-align: middle;\"><strong>PiYG</strong> </div><div class=\"cmap\"><img alt=\"PiYG colormap\" title=\"PiYG\" style=\"border: 1px solid #555;\" src=\"data:image/png;base64,iVBORw0KGgoAAAANSUhEUgAAAgAAAABACAYAAABsv8+/AAAAE3RFWHRUaXRsZQBQaVlHIGNvbG9ybWFwFTPRvAAAABl0RVh0RGVzY3JpcHRpb24AUGlZRyBjb2xvcm1hcJ6BQSQAAAAwdEVYdEF1dGhvcgBNYXRwbG90bGliIHYzLjQuMiwgaHR0cHM6Ly9tYXRwbG90bGliLm9yZ6zWY90AAAAydEVYdFNvZnR3YXJlAE1hdHBsb3RsaWIgdjMuNC4yLCBodHRwczovL21hdHBsb3RsaWIub3JngnD8+gAAAhlJREFUeJzt1ktu2zAARVFKyQqzsO7YYgcmlYoy/YM7eudMCH4jo0Bxlz/LTy2llHVZynVch/H2+td/Pv/2vfW6vnyvx/Hrwfzlc8uH37u9XvrvWY/n9vV+7+n9pe2v7+23d8vkXp+f9vu9/fe0eR/G/WU2L/fPvfrum+dr+4x+73ds+5P1Pq/j+vBeHc4/fuf2e6e/M5zff0fZ2ry2cSv/nqjD/vz8ZL2++s5757d6uT+WS/ucZ89td/f7fPre6dxz7+3j1ufbYX6pt9d/723Hc0/vH7/vMrl33p98x77ex/7vVB+sD/un9X5+m6x/+H5br/t6uc7buO/3ee37s/Plw+/17xven5zv5/p/pwBAEAEAAIEEAAAEEgAAEEgAAEAgAQAAgQQAAAQSAAAQSAAAQCABAACBBAAABBIAABBIAABAIAEAAIEEAAAEEgAAEEgAAEAgAQAAgQQAAAQSAAAQSAAAQCABAACBBAAABBIAABBIAABAIAEAAIEEAAAEEgAAEEgAAEAgAQAAgQQAAAQSAAAQSAAAQCABAACBBAAABBIAABBIAABAIAEAAIEEAAAEEgAAEEgAAEAgAQAAgQQAAAQSAAAQSAAAQCABAACBBAAABBIAABBIAABAIAEAAIEEAAAEEgAAEEgAAEAgAQAAgQQAAAQSAAAQSAAAQCABAACBBAAABBIAABBIAABAIAEAAIEEAAAE+gsoq04y7Vaf7wAAAABJRU5ErkJggg==\"></div><div style=\"vertical-align: middle; max-width: 514px; display: flex; justify-content: space-between;\"><div style=\"float: left;\"><div title=\"#8e0152ff\" style=\"display: inline-block; width: 1em; height: 1em; margin: 0; vertical-align: middle; border: 1px solid #555; background-color: #8e0152ff;\"></div> under</div><div style=\"margin: 0 auto; display: inline-block;\">bad <div title=\"#00000000\" style=\"display: inline-block; width: 1em; height: 1em; margin: 0; vertical-align: middle; border: 1px solid #555; background-color: #00000000;\"></div></div><div style=\"float: right;\">over <div title=\"#276419ff\" style=\"display: inline-block; width: 1em; height: 1em; margin: 0; vertical-align: middle; border: 1px solid #555; background-color: #276419ff;\"></div></div>"
      ],
      "text/plain": [
       "<matplotlib.colors.LinearSegmentedColormap at 0x133b042e0>"
      ]
     },
     "execution_count": 26,
     "metadata": {},
     "output_type": "execute_result"
    }
   ],
   "source": [
    "plt.get_cmap(name='PiYG')"
   ]
  }
 ],
 "metadata": {
  "kernelspec": {
   "display_name": "Python 3.9.6 64-bit",
   "language": "python",
   "name": "python3"
  },
  "language_info": {
   "codemirror_mode": {
    "name": "ipython",
    "version": 3
   },
   "file_extension": ".py",
   "mimetype": "text/x-python",
   "name": "python",
   "nbconvert_exporter": "python",
   "pygments_lexer": "ipython3",
   "version": "3.9.6"
  },
  "orig_nbformat": 4,
  "vscode": {
   "interpreter": {
    "hash": "b0fa6594d8f4cbf19f97940f81e996739fb7646882a419484c72d19e05852a7e"
   }
  }
 },
 "nbformat": 4,
 "nbformat_minor": 2
}
